{
 "cells": [
  {
   "cell_type": "code",
   "execution_count": 2,
   "id": "8cdf1abb",
   "metadata": {},
   "outputs": [],
   "source": [
    "import pandas as pd\n",
    "import numpy as np\n",
    "import tqdm\n",
    "from sklearn.metrics import mean_squared_error\n",
    "from statsmodels.tsa.stattools import adfuller\n",
    "import statsmodels.api as sm\n",
    "import statsmodels.tsa.api as smt\n",
    "from statsmodels.tsa.stattools import adfuller\n",
    "import matplotlib.pyplot as plt\n",
    "from scipy.stats import boxcox\n",
    "from math import sqrt"
   ]
  },
  {
   "cell_type": "code",
   "execution_count": null,
   "id": "293a3706",
   "metadata": {},
   "outputs": [],
   "source": [
    "pip install statsmodels --upgrade"
   ]
  },
  {
   "cell_type": "code",
   "execution_count": 3,
   "id": "8d825934",
   "metadata": {},
   "outputs": [],
   "source": [
    "import matplotlib.pyplot as plt\n",
    "%matplotlib inline"
   ]
  },
  {
   "cell_type": "code",
   "execution_count": 4,
   "id": "439763de",
   "metadata": {},
   "outputs": [],
   "source": [
    "def test_stationarity(timeseries):\n",
    "    print('Results of Dickey-Fuller Test:')\n",
    "    dftest = adfuller(timeseries, autolag='AIC')\n",
    "    dfoutput = pd.Series(dftest[0:4], index=['Test Statistic', 'p-value', '#Lags Used', 'Number of Observations Used'])\n",
    "    for [key, value] in dftest[4].items():\n",
    "        dfoutput['Critical Value (%s)' % key] = value\n",
    "    print(dfoutput)"
   ]
  },
  {
   "cell_type": "code",
   "execution_count": 5,
   "id": "31621527",
   "metadata": {},
   "outputs": [],
   "source": [
    "def tsplot(y, lags=None, figsize=(14, 8), style='bmh'):\n",
    "    test_stationarity(y)\n",
    "    if not isinstance(y, pd.Series):\n",
    "        y = pd.Series(y)\n",
    "    with plt.style.context(style):\n",
    "        plt.figure(figsize=figsize)\n",
    "        layout = (5, 1)\n",
    "        ts_ax = plt.subplot2grid(layout, (0, 0), rowspan=2)\n",
    "        acf_ax = plt.subplot2grid(layout, (2, 0))\n",
    "        pacf_ax = plt.subplot2grid(layout, (3, 0))\n",
    "        qq_ax = plt.subplot2grid(layout, (4, 0))\n",
    "\n",
    "        y.plot(ax=ts_ax, color='blue', label='Or')\n",
    "        ts_ax.set_title('Original')\n",
    "\n",
    "        smt.graphics.plot_acf(y, lags=lags, ax=acf_ax, alpha=0.05)\n",
    "        smt.graphics.plot_pacf(y, lags=lags, ax=pacf_ax, alpha=0.05)\n",
    "        sm.qqplot(y, line='s', ax=qq_ax)\n",
    "        \n",
    "        plt.tight_layout()\n",
    "    return"
   ]
  },
  {
   "cell_type": "code",
   "execution_count": null,
   "id": "1ad3a835",
   "metadata": {},
   "outputs": [],
   "source": [
    "series = pd.read_csv('international-airline-passengers.csv')['Count']"
   ]
  },
  {
   "cell_type": "code",
   "execution_count": null,
   "id": "a82b6675",
   "metadata": {},
   "outputs": [],
   "source": [
    "series = boxcox(series, 0)"
   ]
  },
  {
   "cell_type": "code",
   "execution_count": null,
   "id": "882ddbd5",
   "metadata": {},
   "outputs": [],
   "source": [
    "tsplot(series)"
   ]
  },
  {
   "cell_type": "code",
   "execution_count": null,
   "id": "4cf482bf",
   "metadata": {},
   "outputs": [],
   "source": [
    "#AR\n",
    "mdl = smt.AutoReg(series, lags=30).fit()\n",
    "print(mdl.params)"
   ]
  },
  {
   "cell_type": "code",
   "execution_count": null,
   "id": "7849cc0d",
   "metadata": {},
   "outputs": [],
   "source": [
    "tsplot(mdl.resid, lags=30)"
   ]
  },
  {
   "cell_type": "code",
   "execution_count": null,
   "id": "623cb4e0",
   "metadata": {},
   "outputs": [],
   "source": [
    "series_diffed = np.diff(series)\n",
    "series_diffed = series_diffed[12:] - series_diffed[:-12]\n",
    "tsplot(series_diffed)"
   ]
  },
  {
   "cell_type": "code",
   "execution_count": null,
   "id": "6ec77f51",
   "metadata": {},
   "outputs": [],
   "source": [
    "mdl_diffed = smt.AutoReg(series_diffed, lags=30).fit()\n",
    "print(mdl_diffed.params)"
   ]
  },
  {
   "cell_type": "code",
   "execution_count": null,
   "id": "4edfd57b",
   "metadata": {},
   "outputs": [],
   "source": [
    "tsplot(mdl_diffed.resid)"
   ]
  },
  {
   "cell_type": "code",
   "execution_count": null,
   "id": "58ad766d",
   "metadata": {},
   "outputs": [],
   "source": [
    "#ARIMA\n",
    "from statsmodels.graphics.tsaplots import plot_predict\n",
    "from statsmodels.tsa.arima_process import arma_generate_sample\n",
    "from statsmodels.tsa.arima.model import ARIMA"
   ]
  },
  {
   "cell_type": "code",
   "execution_count": null,
   "id": "ca0cfdd5",
   "metadata": {},
   "outputs": [],
   "source": [
    "max_lag = 30\n",
    "\n",
    "n = int(5000) # lots of samples to help estimates\n",
    "burn = int(n/10) # number of samples to discard before fit\n",
    "\n",
    "alphas = np.array([0.5, -0.25])\n",
    "betas = np.array([0.5, -0.3])\n",
    "\n",
    "ar = np.r_[1, -alphas]\n",
    "ma = np.r_[1, betas]\n",
    "\n",
    "arma22 = smt.arma_generate_sample(ar=ar, ma=ma, nsample=n, burnin=burn)\n",
    "tsplot(arma22, lags=max_lag)"
   ]
  },
  {
   "cell_type": "code",
   "execution_count": null,
   "id": "a8a52ea7",
   "metadata": {},
   "outputs": [],
   "source": [
    "mdl = smt.ARIMA(arma22, order=(2, 2, 2)).fit()\n",
    "print(mdl.summary())"
   ]
  },
  {
   "cell_type": "code",
   "execution_count": null,
   "id": "6a2c82e1",
   "metadata": {},
   "outputs": [],
   "source": [
    "fig, ax = plt.subplots(figsize=(14, 8))\n",
    "fig = plot_predict(mdl, start=4900, end=5100, ax=ax)\n",
    "legend = ax.legend(loc=\"upper left\")"
   ]
  }
 ],
 "metadata": {
  "celltoolbar": "Edit Metadata",
  "kernelspec": {
   "display_name": "Python 3 (ipykernel)",
   "language": "python",
   "name": "python3"
  },
  "language_info": {
   "codemirror_mode": {
    "name": "ipython",
    "version": 3
   },
   "file_extension": ".py",
   "mimetype": "text/x-python",
   "name": "python",
   "nbconvert_exporter": "python",
   "pygments_lexer": "ipython3",
   "version": "3.10.9"
  }
 },
 "nbformat": 4,
 "nbformat_minor": 5
}
